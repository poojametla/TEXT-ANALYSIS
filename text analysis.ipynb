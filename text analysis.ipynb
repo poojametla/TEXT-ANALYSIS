{
 "cells": [
  {
   "cell_type": "markdown",
   "id": "d8f4fb85-bac5-43f1-8342-71bd3754ad04",
   "metadata": {},
   "source": [
    " #  **TEXT ANALYSIS**"
   ]
  },
  {
   "cell_type": "markdown",
   "id": "a4992211-4947-456a-a5e2-83831a26152d",
   "metadata": {},
   "source": [
    "### What is text analysis?\n",
    "Text analysis, also known as text mining or text analytics, refers to the process of extracting meaningful information and insights from textual data."
   ]
  },
  {
   "cell_type": "markdown",
   "id": "496ab79f-8ea6-45cf-a186-ae8a4a54c7f1",
   "metadata": {},
   "source": [
    "### Objectives\n",
    "After completing this lab, you will be able to:\n",
    "\n",
    "Use Python commands to perform text analysis.\n",
    "Convert the text to lowercase and then find and count the frequency of all unique words, as well as a specified word."
   ]
  },
  {
   "cell_type": "markdown",
   "id": "a8aa5445-fa56-49ab-8a2d-a6e6054ba2c7",
   "metadata": {},
   "source": [
    "### setup\n",
    "For this lab, you will be using the following data types:\n",
    "\n",
    "- List\n",
    "- Strings\n",
    "- Classes and objects"
   ]
  },
  {
   "cell_type": "markdown",
   "id": "5139fb6f-0fc9-4fe5-a305-b662e9519b45",
   "metadata": {},
   "source": [
    "#### Let's consider a real-life scenario where you are analyzing customer feedback for a product. You have a large data set of customer reviews in the form of strings, and you want to extract useful information from them using the three identified tasks:\n",
    "\n",
    "Task 1. String in lowercase: You want to pre-process the customer feedback by converting all the text to lowercase. This step helps standardize the text. Lower casing the text allows you to focus on the content rather than the specific letter casing.\n",
    "\n",
    "Task 2. Frequency of all words in a given string: After converting the text to lowercase, you want to determine the frequency of each word in the customer feedback. This information will help you identify which words are used more frequently, indicating the key aspects or topics that customers are mentioning in their reviews. By analyzing the word frequencies, you can gain insights into the most common issues raised by customers.\n",
    "\n",
    "Task 3. Frequency of a specific word: In addition to analyzing the overall word frequencies, you want to specifically track the frequency of a particular word that is relevant to your analysis. For example, you might be interested in monitoring how often the word \"reliable\" appears in customer reviews to gauge customer sentiment about the product's reliability. By focusing on the frequency of a specific word, you can gain a deeper understanding of customer opinions or preferences related to that particular aspect.\n",
    "\n",
    "By performing these tasks on the customer feedback dataset, you can gain valuable insights into customer sentiment"
   ]
  },
  {
   "cell_type": "code",
   "execution_count": 17,
   "id": "4a415c72-305c-4d7b-b5c9-f2264db8d494",
   "metadata": {},
   "outputs": [
    {
     "name": "stdout",
     "output_type": "stream",
     "text": [
      "Formatted Text: mary had a little lamb  little lamb its fleece was white as snow whenever mary went mary went it made sure to follow her\n",
      "{'': 1, 'fleece': 1, 'to': 1, 'whenever': 1, 'sure': 1, 'snow': 1, 'little': 2, 'as': 1, 'was': 1, 'her': 1, 'mary': 3, 'had': 1, 'follow': 1, 'lamb': 2, 'a': 1, 'white': 1, 'went': 2, 'made': 1, 'it': 1, 'its': 1}\n",
      "The word mary appears 3 times.\n"
     ]
    }
   ],
   "source": [
    "# define a string\n",
    "\n",
    "givenstring=\"mary had a little LAMB ,LITTLE LAMB.Its fleece was white as snow!whenever mary went,mary went it made sure to follow her\"\n",
    "\n",
    "# define class and attributes\n",
    "\n",
    "class TextAnalyzer(object):\n",
    "    \n",
    "    def __init__ (self, text):\n",
    "        # remove punctuation\n",
    "        formattedText = text.replace('.',' ').replace('!',' ').replace('?',' ').replace(',',' ')\n",
    "        \n",
    "        # make text lowercase\n",
    "        formattedText = formattedText.lower()\n",
    "        \n",
    "        self.fmtText = formattedText\n",
    "        \n",
    "    def freqAll(self):        \n",
    "        # split text into words\n",
    "        wordList = self.fmtText.split(' ')\n",
    "        \n",
    "        # Create dictionary\n",
    "        freqMap = {}\n",
    "        for word in set(wordList): # use set to remove duplicates in list\n",
    "            freqMap[word] = wordList.count(word)\n",
    "        \n",
    "        return freqMap\n",
    "    \n",
    "    def freqOf(self,word):\n",
    "        # get frequency map\n",
    "        freqDict = self.freqAll()\n",
    "        \n",
    "        if word in freqDict:\n",
    "            return freqDict[word]\n",
    "        else:\n",
    "            return 0\n",
    "\n",
    "# instantiate the TextAnalyzer class by passing the given string as an argument.\n",
    "\n",
    "analyzed = TextAnalyzer(givenstring)\n",
    "\n",
    "# calling function that converts data to lowercase\n",
    "\n",
    "print(\"Formatted Text:\", analyzed.fmtText)\n",
    "\n",
    "# Call the function that counts the frequency of all unique words from the data\n",
    "freqMap = analyzed.freqAll()\n",
    "print(freqMap)\n",
    "\n",
    "# Call the function that counts the frequency of a specific word\n",
    "\n",
    "word = \"mary\"\n",
    "frequency = analyzed.freqOf(word)\n",
    "print(\"The word\",word,\"appears\",frequency,\"times.\")"
   ]
  },
  {
   "cell_type": "code",
   "execution_count": null,
   "id": "53c6de3f-418a-4482-bc92-3595a4ba2d5b",
   "metadata": {},
   "outputs": [],
   "source": []
  }
 ],
 "metadata": {
  "kernelspec": {
   "display_name": "Python [conda env:base] *",
   "language": "python",
   "name": "conda-base-py"
  },
  "language_info": {
   "codemirror_mode": {
    "name": "ipython",
    "version": 3
   },
   "file_extension": ".py",
   "mimetype": "text/x-python",
   "name": "python",
   "nbconvert_exporter": "python",
   "pygments_lexer": "ipython3",
   "version": "3.12.7"
  }
 },
 "nbformat": 4,
 "nbformat_minor": 5
}
